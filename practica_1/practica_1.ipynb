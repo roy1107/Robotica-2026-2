{
 "cells": [
  {
   "cell_type": "markdown",
   "id": "4ad60680-68ce-410c-b0e2-b4c1c133cd82",
   "metadata": {},
   "source": [
    "# Práctica 1: Manejo básico de herramientas"
   ]
  },
  {
   "cell_type": "markdown",
   "id": "0364f5ab",
   "metadata": {},
   "source": [
    "## Objetivo\n",
    "\n",
    "Que el alumno haga uso de las funciones de uso básico de las herramientas del curso (Ubuntu, Python, Jupyter, Github)"
   ]
  },
  {
   "cell_type": "markdown",
   "id": "283d924e",
   "metadata": {},
   "source": [
    "### Metas\n",
    "\n",
    "Que el alumno:\n",
    "- Integre texto en Markdown dentro de Jupyter\n",
    "- Integre código de Python dentro de Jupyter\n",
    "- Haga uso de la terminal de Ubuntu y contruya un script de bash\n",
    "- Genere un repositorio en GitHub y comparta su archivo de práctica"
   ]
  },
  {
   "cell_type": "markdown",
   "id": "66021773",
   "metadata": {},
   "source": [
    "### Contribución al perfil del egresado\n",
    "\n",
    "La siguiente práctica contribuye en los siguientes puntos al perfil del egresado:"
   ]
  },
  {
   "cell_type": "markdown",
   "id": "650038e0",
   "metadata": {},
   "source": [
    "#### Aptitudes y habilidades\n",
    "\n",
    "- Para diseñar, construir, operar y mantener los sistemas mecatrónicos y sus componentes.\n",
    "- Para crear, innovar o evaluar las tecnologías relacionadas con la mecatrónica."
   ]
  },
  {
   "cell_type": "markdown",
   "id": "35e56fe2",
   "metadata": {},
   "source": [
    "#### Actitudes profesionales\n",
    "\n",
    "- Ser creativo e innovador.\n",
    "- Tener confianza en su preparación académica.\n",
    "- Comprometido con su actualización, superación y competencia profesional."
   ]
  },
  {
   "cell_type": "markdown",
   "id": "33ee9807",
   "metadata": {},
   "source": [
    "#### Actitudes de tipo social\n",
    "\n",
    "- Promover el cambio en la mentalidad frente a la competitividad internacional."
   ]
  },
  {
   "cell_type": "markdown",
   "id": "3db59ed8",
   "metadata": {},
   "source": [
    "## Rúbrica de evaluación"
   ]
  },
  {
   "cell_type": "markdown",
   "id": "f6c7cd2e",
   "metadata": {},
   "source": [
    "### La evaluación de la práctica contará de los siguientes puntos\n",
    "\n",
    "| Elemento | Porcentaje |\n",
    "| ------:| ----------- |\n",
    "| **Cuestionario previo** | 15% | \n",
    "| **Desarrollo** | 35% |\n",
    "| **Análisis de resultados**  | 35% |\n",
    "| **Conclusiones** | 15% |"
   ]
  },
  {
   "cell_type": "markdown",
   "id": "57741f8a",
   "metadata": {},
   "source": [
    "### Se evaluará con los siguientes criterios:\n",
    "\n",
    "| Elemento | Malo | Regular | Bueno |\n",
    "| ------:| ------ | --------| ------|\n",
    "| **Cuestionario previo** | El trabajo no contiene cuestionario previo o todas las preguntas son incorrectas (0%)| Al menos la mitad de las preguntas son correctas (8%) |  Todas las preguntas son correctas (15%) |\n",
    "| **Desarrollo** | El trabajo no contiene desarrollo o su planteamiento no concuerda con lo deseado (0%) | El desarrollo está mal planteado o no llega a los resultados esperados (10%) | El desarrollo tiene un planteamiento adecuado y llega a los resultados esperados (35%) |\n",
    "| **Análisis de resultados**  | El trabajo no contiene análisis de resultados o la información no se está interpretando correctamente (0%) | La interpretación de los resultados es parcial o desorganizada (10%) | Realiza un correcto análisis de los resultados de forma organizada   (35%) |\n",
    "| **Conclusiones** | El trabajo no contiene conclusiones o no hacen referencia al trabajo desarrollado y los objetivos planteados (0%) | La redacción de las conclusiones es desorganizada o confusa (8%) | Las conclusiones del trabajo son claras y hacen referencia al trabajo desarrollado y los objetivos planteados (15%) | "
   ]
  },
  {
   "cell_type": "markdown",
   "id": "e5ff673e-01fd-4484-99fe-3a26e38c516e",
   "metadata": {},
   "source": [
    "## Introducción"
   ]
  },
  {
   "cell_type": "markdown",
   "id": "dafaaa10",
   "metadata": {},
   "source": [
    "En el desarrollo de la robótica moderna, es fundamental contar con un dominio básico de herramientas digitales que permiten documentar, programar y compartir proyectos.\n",
    "\n",
    "- <img src=\"imagenes/Ubuntu-logo.png\" height=60/> **Ubuntu** es un sistema operativo basado en Linux, muy usado en investigación y robótica gracias a su estabilidad y compatibilidad con librerías como ROS. El manejo de la terminal es esencial para automatizar tareas y ejecutar programas de manera eficiente.\n",
    "\n",
    "\n",
    "\n",
    "- <img src=\"imagenes/Jupyter-logo.png\" height=60/> **Jupyter** es una herramienta interactiva que facilita combinar texto, código y resultados en un mismo documento. Se utiliza ampliamente en ciencia de datos, aprendizaje automático y simulación robótica. Para texto utiliza el formato **Markdown**.\n",
    "\n",
    "\n",
    "\n",
    "- <img src=\"imagenes/Python-logo.png\" height=60/> **Python** es uno de los intérpretes más usados en robótica por su simplicidad y su gran ecosistema de librerías. En Jupyter, se puede combinar código Python con explicaciones en texto.\n",
    "\n",
    "\n",
    "\n",
    "- <img src=\"imagenes/Git-logo.png\" height=60/> **Git** es un sistema de control de versiones que permite llevar un historial de cambios en los archivos de una carpeta (repositorio), así como recuperar versiones anteriores, y trabajar en paralelo en \"*ramas*\" sin perder información. \n",
    "\n",
    "\n",
    "\n",
    "- <img src=\"imagenes/Github-logo.png\" height=60/> **Github** es una plataforma en línea que utiliza git para almacenar repositorios. Cuenta con herramientas para colaboración en equipo, documentación y despliegue.\n",
    "\n"
   ]
  },
  {
   "cell_type": "markdown",
   "id": "0ca966a0-89c6-434c-b39d-22dc0b54cde0",
   "metadata": {},
   "source": [
    "## Cuestionario previo"
   ]
  },
  {
   "cell_type": "markdown",
   "id": "fae60cb2",
   "metadata": {},
   "source": [
    "### Responder de forma breve las siguientes preguntas:\n",
    "\n",
    "- En linux, ¿a qué se refieren los términos sh, bash y shell?\n",
    "> En Linux, el shell es el programa que interpreta los comandos que el usuario escribe para comunicarse con el sistema operativo. Es como una “interfaz de texto” entre tú y el sistema.\n",
    "\n",
    "sh (Bourne Shell): fue el primer shell estándar de Unix, creado en los años 70. Ejecuta comandos básicos y scripts, pero tiene funciones limitadas comparado con otros shells más modernos.\n",
    "\n",
    "bash (Bourne Again Shell): es una versión mejorada de sh, creada por el Proyecto GNU. Es el shell por defecto en la mayoría de distribuciones Linux, con más funciones como historial de comandos, autocompletado y manejo avanzado de scripts.\n",
    "\n",
    "shell = intérprete de comandos.\n",
    "\n",
    "sh = shell original de Unix.\n",
    "\n",
    "bash = shell moderno más usado en Linux, basado en sh pero con muchas mejoras.\n",
    "\n",
    "\n",
    "- ¿Python se considera un lenguaje de programación? ¿Por qué?\n",
    "> Python es un lenguaje de programación.\n",
    "Se considera así porque cumple con todas las características de un lenguaje formal usado para crear software: tiene sintaxis, semántica, estructuras de control, manejo de datos y funciones que permiten desarrollar desde programas simples hasta aplicaciones complejas.\n",
    "\n",
    "Además, es un lenguaje de alto nivel e interpretado, lo que significa que no necesitas compilarlo; el intérprete de Python ejecuta el código directamente línea por línea.\n",
    "Su diseño busca ser claro y legible, lo que lo hace ideal para principiantes y profesionales en áreas como desarrollo web, inteligencia artificial o análisis de datos.\n",
    "\n",
    "- ¿Qué lenguajes o intérpretes se pueden usar en Jupyter?\n",
    "> Aunque Jupyter nació para usar Python, hoy admite muchos otros lenguajes gracias a su sistema de kernels (núcleos de ejecución).\n",
    "Algunos de los más comunes son:\n",
    "\n",
    "Python (con el kernel IPython, el más usado)\n",
    "\n",
    "R (para análisis estadístico)\n",
    "\n",
    "Julia (para cálculo numérico)\n",
    "\n",
    "C++, Java, Ruby, Octave, y otros mediante extensiones de la comunidad\n",
    "\n",
    "- ¿Cuál es la diferencia entre Git y GitHub?\n",
    "> Git es un sistema de control de versiones creado por Linus Torvalds.\n",
    "Permite llevar el historial de cambios de un proyecto, colaborar sin perder versiones y trabajar incluso sin conexión. Todo se maneja desde la línea de comandos o herramientas gráficas.\n",
    "\n",
    "GitHub, en cambio, es una plataforma web que utiliza Git, pero agrega funciones sociales y colaborativas: alojamiento de repositorios, issues, pull requests y revisiones de código.\n",
    "En pocas palabras:\n",
    "\n",
    "Git = herramienta para controlar versiones.\n",
    "\n",
    "GitHub = sitio web que usa Git para compartir y colaborar.\n",
    "\n",
    "*En caso de integrar imagenes, colocarlas en la carpeta \"imagenes\"*"
   ]
  },
  {
   "cell_type": "markdown",
   "id": "fdcc24d0-38ff-4ca9-b068-35a9d34dfc10",
   "metadata": {},
   "source": [
    "## Desarrollo"
   ]
  },
  {
   "cell_type": "markdown",
   "id": "8ea2d641",
   "metadata": {},
   "source": [
    "### 1. Manejo de Ubuntu"
   ]
  },
  {
   "cell_type": "markdown",
   "id": "65bfe09f",
   "metadata": {},
   "source": [
    "En este primera parte, se creará un archivo .bash que:\n",
    "- Despliegue un mensaje de inicio\n",
    "- Se mueva a la carpeta de usuario\n",
    "- En caso de que no exista la carpeta \"Practica1\" la cree\n",
    "- Dentro, cree la carpeta \"Letras\" con los archivos \n",
    "    - a.txt\n",
    "    - b.txt\n",
    "    - c.txt\n",
    "- Dentro de la misma carpeta, cree la carpeta \"Integrantes\" con los archivos \n",
    "    - Nombre1.txt\n",
    "    - Nombre2.txt\n",
    "    - Nombre3.txt\n",
    "  \n",
    "  Siendo \"NombreN\" el nombre de cada integrante del equipo (sin espacios)\n",
    "- Despliegue un diagrama de la estructura de la carpeta \"Practica1\", con sus subcarpetas y archivos\n",
    "- Elimine la carpeta \"Practica1\", con sus subcarpetas y archivos\n",
    "- Conceder permisos de administrador al archivo y correrlo\n",
    "\n",
    "Como probatorios: \n",
    "- Incluir la imagen en una nueva celda.\n",
    "- Incluir el código en otra nueva celda."
   ]
  },
  {
   "cell_type": "markdown",
   "id": "ea8c21c3",
   "metadata": {},
   "source": [
    "~~~bash\n",
    "\n",
    "#!/bin/bash\n",
    "# ==================================================\n",
    "# Script para crear, mostrar y eliminar estructura \"Practica1\"\n",
    "# ==================================================\n",
    "\n",
    "echo \"---- 1. Mensaje de inicio ----\"\n",
    "echo \"Iniciando preparación de la estructura 'Practica1'\"\n",
    "echo \"------------------------------------------\"\n",
    "\n",
    "echo \"---- 2. Moverse a la carpeta de usuario ----\"\n",
    "cd \"$HOME\" || exit 1\n",
    "echo \"Directorio actual: $(pwd)\"\n",
    "\n",
    "echo \"---- 3. Crear carpeta 'Practica1' si no existe ----\"\n",
    "if test -d \"Practica1\"; then\n",
    "    echo \"La carpeta 'Practica1' ya existe\"\n",
    "else\n",
    "    mkdir \"Practica1\"\n",
    "    echo \"Se creó la carpeta 'Practica1'\"\n",
    "fi\n",
    "\n",
    "# ARCHIVOS\n",
    "\n",
    "echo \"---- 4. Crear 'Letras' y archivos a.txt, b.txt, c.txt ----\"\n",
    "mkdir -p \"Practica1/Letras\"\n",
    ": > \"Practica1/Letras/a.txt\"\n",
    ": > \"Practica1/Letras/b.txt\"\n",
    ": > \"Practica1/Letras/c.txt\"\n",
    "echo \"Se crearon los archivos en 'Practica1/Letras'\"\n",
    "\n",
    "echo \"---- 5. Crear 'Integrantes' y archivos Rodrigo.txt, Aldo.txt, Josue.txt ----\"\n",
    "mkdir -p \"Practica1/Integrantes\"\n",
    "\n",
    "# INTEGRANTES\n",
    ": > \"Practica1/Integrantes/Rodrigo.txt\"\n",
    ": > \"Practica1/Integrantes/Aldo.txt\"\n",
    ": > \"Practica1/Integrantes/Josue.txt\"\n",
    "echo \"Se crearon los archivos de integrantes en 'Practica1/Integrantes'\"\n",
    "\n",
    "echo \"---- 6. Diagrama/estructura de 'Practica1' ----\"\n",
    "echo \"Contenido de 'Practica1':\"\n",
    "ls -R \"Practica1\"\n",
    "\n",
    "echo \"---- 7. Eliminar la carpeta 'Practica1' con todo ----\"\n",
    "rm -rf \"Practica1\"\n",
    "echo \"La carpeta 'Practica1' y su contenido han sido eliminados\"\n",
    "\n",
    "echo \"------------------------------------------\"\n",
    "echo \"Script finalizado correctamente ✅\"\n",
    "\n",
    "\n",
    "~~~\n"
   ]
  },
  {
   "cell_type": "markdown",
   "id": "5f2a1835",
   "metadata": {},
   "source": [
    "<img src=\"imagenes/p1.png\" height=500/>"
   ]
  },
  {
   "cell_type": "markdown",
   "id": "8802332e",
   "metadata": {},
   "source": [
    "### 2. Markdown"
   ]
  },
  {
   "cell_type": "markdown",
   "id": "0a4cf491",
   "metadata": {},
   "source": [
    "En esta parte, crear una celda de markdown con:\n",
    "\n",
    "- La forma general de la matriz de transformación homogénea de un sistema j respecto a un sistema i\n",
    "- La forma general de la matriz de rotación de un sistema j respecto a un sistema i respecto al eje z\n",
    "- La forma general del vector de posición de un sistema j respecto a un sistema i\n",
    "- La forma general del vector de postura para un manipulador contenido en el plano XY\n",
    "- La forma general del vector de juntas para un manipulador RRR\n",
    "\n",
    "Colocar todo dentro de una tabla de dos columnas\n",
    "|Elemento|Ecuación|\n",
    "|----------|--------|\n",
    "|Elemento 1|Ecuación|\n",
    "|Elemento 2|Ecuación|\n",
    "|...       |...     |\n",
    "|Elemento N|Ecuación|"
   ]
  },
  {
   "cell_type": "markdown",
   "id": "1e7cd3bd",
   "metadata": {},
   "source": [
    "| **Elemento** | **Ecuación** |\n",
    "|---------------|--------------|\n",
    "| **Matriz de transformación homogénea** <br> de un sistema *j* respecto a un sistema *i* | $$ ^iT_j = \\begin{bmatrix} ^iR_j & ^iP_j \\\\ 0\\ 0\\ 0 & 1 \\end{bmatrix} $$ |\n",
    "| **Matriz de rotación** <br> de un sistema *j* respecto a un sistema *i* respecto al eje *z* | $$ ^iR_j = \\begin{bmatrix} \\cos\\theta & -\\sin\\theta & 0 \\\\[4pt] \\sin\\theta & \\cos\\theta & 0 \\\\[4pt] 0 & 0 & 1 \\end{bmatrix} $$ |\n",
    "| **Vector de posición** <br> de un sistema *j* respecto a un sistema *i* | $$ ^iP_j = \\begin{bmatrix} x \\\\[4pt] y \\\\[4pt] z \\end{bmatrix} $$ |\n",
    "| **Vector de postura** <br> para un manipulador contenido en el plano *XY* | $$ X = \\begin{bmatrix} x \\\\[4pt] y \\\\[4pt] \\theta \\end{bmatrix} $$ |\n",
    "| **Vector de juntas** <br> para un manipulador *RRR* | $$ q = \\begin{bmatrix} \\theta_1 \\\\[4pt] \\theta_2 \\\\[4pt] \\theta_3 \\end{bmatrix} $$ |\n",
    "\n",
    "\n"
   ]
  },
  {
   "cell_type": "markdown",
   "id": "a6d5a8da",
   "metadata": {},
   "source": [
    "### 3. Python"
   ]
  },
  {
   "cell_type": "markdown",
   "id": "f4fb68dc",
   "metadata": {},
   "source": [
    "Crear en python las siguientes celdas:\n",
    "\n",
    "- Definir una clase \"Calculadora\" con métodos \"suma\" y \"multiplicación\" que tomen dos parámetros y regresen el resultado de la operación\n",
    "- Definir una clase \"CalculadoraMultiple\" con métodos \"suma\" y \"multiplicación\" que tomen cualquier cantidad de parámetros y regresen el resultado de la operación \n",
    "- Instanciar ambas clases en una nueva celda y comprobar su funcionamiento"
   ]
  },
  {
   "cell_type": "code",
   "execution_count": 1,
   "id": "f72d4e68",
   "metadata": {},
   "outputs": [],
   "source": [
    "# Definición de la clase Calculadora\n",
    "class Calculadora:\n",
    "    def suma(self, a, b):\n",
    "        \"\"\"Devuelve la suma de dos números.\"\"\"\n",
    "        return a + b\n",
    "\n",
    "    def multiplicacion(self, a, b):\n",
    "        \"\"\"Devuelve la multiplicación de dos números.\"\"\"\n",
    "        return a * b\n"
   ]
  },
  {
   "cell_type": "code",
   "execution_count": 3,
   "id": "b99d2b19",
   "metadata": {},
   "outputs": [],
   "source": [
    "# Definición de la clase CalculadoraMultiple\n",
    "class CalculadoraMultiple:\n",
    "    def suma(self, *args):\n",
    "        \"\"\"Devuelve la suma de cualquier cantidad de números.\"\"\"\n",
    "        return sum(args)\n",
    "\n",
    "    def multiplicacion(self, *args):\n",
    "        \"\"\"Devuelve la multiplicación de cualquier cantidad de números.\"\"\"\n",
    "        resultado = 1\n",
    "        for num in args:\n",
    "            resultado *= num\n",
    "        return resultado"
   ]
  },
  {
   "cell_type": "code",
   "execution_count": 4,
   "id": "45755c2f",
   "metadata": {},
   "outputs": [
    {
     "name": "stdout",
     "output_type": "stream",
     "text": [
      "=== Calculadora ===\n",
      "Suma 5 + 3 = 8\n",
      "Multiplicación 5 * 3 = 15\n",
      "\n",
      "=== CalculadoraMultiple ===\n",
      "Suma 1 + 2 + 3 + 4 = 10\n",
      "Multiplicación 1 * 2 * 3 * 4 = 24\n"
     ]
    }
   ],
   "source": [
    "# Crear instancias\n",
    "calc_simple = Calculadora()\n",
    "calc_multi = CalculadoraMultiple()\n",
    "\n",
    "# Probar la clase Calculadora (dos parámetros)\n",
    "print(\"=== Calculadora ===\")\n",
    "print(\"Suma 5 + 3 =\", calc_simple.suma(5, 3))\n",
    "print(\"Multiplicación 5 * 3 =\", calc_simple.multiplicacion(5, 3))\n",
    "\n",
    "# Probar la clase CalculadoraMultiple (múltiples parámetros)\n",
    "print(\"\\n=== CalculadoraMultiple ===\")\n",
    "print(\"Suma 1 + 2 + 3 + 4 =\", calc_multi.suma(1, 2, 3, 4))\n",
    "print(\"Multiplicación 1 * 2 * 3 * 4 =\", calc_multi.multiplicacion(1, 2, 3, 4))"
   ]
  },
  {
   "cell_type": "markdown",
   "id": "d948dc9e",
   "metadata": {},
   "source": [
    "### 4. GitHub"
   ]
  },
  {
   "cell_type": "markdown",
   "id": "2943f9be",
   "metadata": {},
   "source": [
    "Generar un repositorio en línea llamado \"Robotica-2026-2\", donde se subirán los archivos de la práctica. Agregar a los miembros del equipo como colaboradores del repositorio.\n",
    "\n",
    "En la configuración del repositorio incluir  un archivo README.md, y en él colocar:\n",
    "\n",
    "- Una descripción del repositorio\n",
    "- Nombres de los integrantes del equipo\n",
    "\n",
    "Se recomienda primero crear el repositorio en línea, clonarlo en el ordenador y después incluir los archivos de la práctica. Para utilizar el repositorio para todas las prácticas posteriores, se recomienda usar la siguiente estructura de archivos:\n",
    "~~~ bash\n",
    "Robotica-2026-2/\n",
    "├── practica_1\n",
    "│   ├── images\n",
    "│   │   └── p1_1.png\n",
    "│   └── practica_1.ipynb\n",
    "├── README.md\n",
    "└── .gitignore\n",
    "~~~\n",
    "JupyterLab crea carpetas ocultas de nombre **\".ipynb_checkpoints/\"** con la versión anterior de los archivos que carga. Para evitar que estas versiones estén en el repositorio, agregaremos un archivo de configuración **\".gitignore\"**\n",
    "\n",
    "El archivo debe estar en la raíz del repositorio. Para las carpetas que queremos omitir, el archivo debe tener un renglón:\n",
    "\n",
    "> \\*\\*/.ipynb_checkpoints/\\*\n",
    "\n",
    "**Se puede usar como referencia el archivo **\".gitignore\"** de este repositorio"
   ]
  },
  {
   "attachments": {},
   "cell_type": "markdown",
   "id": "3a88c47d-d8a3-43cb-afee-5d54559450a7",
   "metadata": {
    "jp-MarkdownHeadingCollapsed": true
   },
   "source": [
    "## Análisis de resultados\n",
    "\n",
    "¿Qué utilidad tiene el uso de un repositorio en línea para código?\n",
    "> El uso de un repositorio en línea, como GitHub, es muy útil en el desarrollo de proyectos en los que se ven involucradas varias personas y con múltiples archivos de configuración, código fuente, documentación, o simplemente archivos en diferentes versiones. La principal utilidad radica en que permite controlar las versiones del proyecto y ver qué integrante hizo cambios, para determinar si hay algún fallo en el código poderlo restaurar a versiones anteriores donde si funcionaba y ver cuál fue el error. Esto facilita el seguimiento de los cambios, la colaboración entre múltiples desarrolladores.\n",
    "Otra ventaja clave es que permite trabajar de forma colaborativa y remota, ya que todos los integrantes del equipo pueden clonar el repositorio, modificar archivos, proponer cambios y fusionar sus contribuciones. Esto garantiza una trazabilidad de las modificaciones y poder adaptar el código a las diferentes soluciones que tenga cada integrante, permitiendo así llegar a la mejor solución, dando ventajas como el control de versiones, documentación adecuada para que todos los integrantes sepan qué hace cada parte del código (y facilitar el mantenimiento o futuras actualizaciones) y estandarización de procesos.\n",
    "En el contexto de esta práctica, el uso de GitHub permitió organizar el material generado (scripts, notebooks, imágenes y documentos) de manera estructurada, asegurando su disponibilidad, integridad y facilidad de acceso para todos los miembros del equipo de forma remota, permitiendo la distribución de manera más sencilla de la carga de trabajo. \n",
    "\n",
    "\n",
    "\n"
   ]
  },
  {
   "cell_type": "markdown",
   "id": "ed674101-3cbf-4c0e-b0cc-dcddfb09fba5",
   "metadata": {},
   "source": [
    "## Conclusiones\n",
    "\n",
    "Durante el desarrollo de esta práctica se logró cumplir satisfactoriamente con el objetivo principal de familiarizarse con el uso básico de herramientas fundamentales en el ámbito de la robótica moderna: Ubuntu, Python, Jupyter y GitHub. A través de las diferentes secciones de la práctica, se reforzaron habilidades técnicas clave para la documentación, programación, automatización y colaboración profesional en proyectos tecnológicos.\n",
    "Desde el manejo básico de la terminal de Ubuntu y la creación de scripts en Bash, se evidenció la importancia de comprender el funcionamiento del sistema operativo Linux, que es la base de muchos sistemas robóticos y de investigación. El uso de comandos como mkdir, touch, chmod u+x para el control de permisos y ejecución de scripts, permitió comprender cómo se mueve el usuario en la memoria y almacenamiento de archivos de la computadora, cambiando los accesos de los archivos dependiendo de los requerimientos que este tenga.\n",
    "El uso de Jupyter Notebook fue esencial para integrar código Python, texto explicativo y documentación en un solo entorno interactivo. Se utilizaron celdas Markdown para documentar ecuaciones fundamentales de la robótica (como transformaciones homogéneas y vectores de juntas), y celdas de código para programar clases en Python, lo que refuerza la importancia de presentar trabajos técnicos de manera clara y estructurada.\n",
    "Por otro lado, se comprendió y aplicó el uso de GitHub como herramienta clave para el control de versiones y la colaboración en equipo. La estructura del repositorio, el uso del archivo .gitignore, y la integración de colaboradores, son prácticas esenciales para el trabajo profesional en proyectos multidisciplinarios o en proyectos en los que se ven involucradas varias personas que deben hacer diferentes modificaciones sobre el mismo archivo. Asimismo, el archivo README.md permitió documentar de forma clara la finalidad del repositorio y los integrantes del equipo, como en varios proyectos en los que simplemente da un semblante de lo que se hace con esos archivos.\n",
    "Finalmente, a través del análisis de resultados se reafirmó la utilidad de los repositorios para el trabajo colaborativo y organizado. Cumpliendo así con los objetivos de aplicar los conocimientos que hemos adquirido en la materia en temas de GitHub, Python, manejo de archivos, etc. en la creación de un código que cumple con las especificaciones de la práctica.\n",
    "\n",
    "\n",
    "## Bibliografía \n",
    "\n",
    "[1] Red Hat, “Historia de la shell”, Red Hat Documentation. Disponible en: https://legacy.redhat.com/pub/redhat/linux/7.1/de/doc/RH-DOCS/es/rhl-gsg-es-7.1/s1-managing-shells.html\n",
    "\n",
    "[2] Escomposlinux, “¿Qué es un shell? Historia sobre Bash”, FAQ Linux v2.0.2. Disponible en: https://www.escomposlinux.org/Faq/FAQ_Linux_V2.0.2_html/FAQ_Linux_V2.0.2-129.html\n",
    "\n",
    "[3] J. Vergara Carmona, “Una breve historia de las shells”, VergaraCarmona.es, 2022. Disponible en: https://vergaracarmona.es/historia-de-las-shells/\n",
    "\n",
    "[4] Hostinger, “Bash Script: qué es, cómo escribir uno y ejemplos”, Hostinger Tutorials. Disponible en: https://www.hostinger.com/es/tutoriales/bash-script-linux\n",
    "\n",
    "[5] Python Software Foundation, “¿Qué es Python?”, Python.org. Disponible en: https://www.python.org/about/\n",
    "\n",
    "[6] Proyecto Jupyter, “Kernels (lenguajes de programación)”, Documentación oficial de Jupyter. Disponible en: https://docs.jupyter.org/en/stable/projects/kernels.html\n",
    "\n",
    "[7] Git, “Acerca de Git”, Git-SCM.com. Disponible en: https://git-scm.com/book/es/v2/Fundamentos-de-Git-Acerca-del-control-de-versiones\n",
    "\n",
    "[8] GitHub, “¿Qué es GitHub?”, GitHub Docs. Disponible en: https://docs.github.com/es/get-started/start-your-journey/hello-world\n",
    "\n",
    "\n",
    "\n",
    "\n",
    "\n"
   ]
  }
 ],
 "metadata": {
  "kernelspec": {
   "display_name": "Python 3",
   "language": "python",
   "name": "python3"
  },
  "language_info": {
   "codemirror_mode": {
    "name": "ipython",
    "version": 3
   },
   "file_extension": ".py",
   "mimetype": "text/x-python",
   "name": "python",
   "nbconvert_exporter": "python",
   "pygments_lexer": "ipython3",
   "version": "3.10.12"
  }
 },
 "nbformat": 4,
 "nbformat_minor": 5
}
